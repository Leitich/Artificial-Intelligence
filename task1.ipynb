{
  "nbformat": 4,
  "nbformat_minor": 0,
  "metadata": {
    "colab": {
      "name": "Untitled1.ipynb",
      "provenance": [],
      "authorship_tag": "ABX9TyNpThhsLWKgDLs/nbHtoLc6",
      "include_colab_link": true
    },
    "kernelspec": {
      "name": "python3",
      "display_name": "Python 3"
    },
    "language_info": {
      "name": "python"
    }
  },
  "cells": [
    {
      "cell_type": "markdown",
      "metadata": {
        "id": "view-in-github",
        "colab_type": "text"
      },
      "source": [
        "<a href=\"https://colab.research.google.com/github/Leitich/Artificial-Intelligence/blob/main/task1.ipynb\" target=\"_parent\"><img src=\"https://colab.research.google.com/assets/colab-badge.svg\" alt=\"Open In Colab\"/></a>"
      ]
    },
    {
      "cell_type": "code",
      "metadata": {
        "id": "qQ1mZMokQ6WX"
      },
      "source": [
        "import pandas as pd #dataset library\n",
        "import numpy as np #linear algebra library"
      ],
      "execution_count": 179,
      "outputs": []
    },
    {
      "cell_type": "code",
      "metadata": {
        "id": "UKDv03v3Q7m-"
      },
      "source": [
        "from numpy import array\n",
        "from sklearn.preprocessing import Normalizer\n",
        "from keras.activations import sigmoid\n",
        "from keras.losses import mse\n",
        "from numpy.random import uniform,normal "
      ],
      "execution_count": 180,
      "outputs": []
    },
    {
      "cell_type": "markdown",
      "metadata": {
        "id": "vtT-VMNGYMOi"
      },
      "source": [
        "Hyperparameters"
      ]
    },
    {
      "cell_type": "code",
      "metadata": {
        "id": "39dxruRbYP66"
      },
      "source": [
        "batch_size=2"
      ],
      "execution_count": 181,
      "outputs": []
    },
    {
      "cell_type": "code",
      "metadata": {
        "id": "gqMqpsAlRCfN"
      },
      "source": [
        "data_dict={'Day 1':[30,40,50,20,15,60],'Day 2':[40,50,20,15,60,70],\n",
        "           'Day 3':[50,20,15,60,70,50],'Target':[20,15,60,70,50,40]}"
      ],
      "execution_count": 182,
      "outputs": []
    },
    {
      "cell_type": "code",
      "metadata": {
        "id": "q1QfmH8ARwb9"
      },
      "source": [
        "data=pd.DataFrame(data_dict)"
      ],
      "execution_count": 183,
      "outputs": []
    },
    {
      "cell_type": "code",
      "metadata": {
        "colab": {
          "base_uri": "https://localhost:8080/",
          "height": 237
        },
        "id": "VBpFyc_wRQyf",
        "outputId": "a02273f4-54d6-4734-bbc5-d06c5d158323"
      },
      "source": [
        "data\n"
      ],
      "execution_count": 184,
      "outputs": [
        {
          "output_type": "execute_result",
          "data": {
            "text/html": [
              "<div>\n",
              "<style scoped>\n",
              "    .dataframe tbody tr th:only-of-type {\n",
              "        vertical-align: middle;\n",
              "    }\n",
              "\n",
              "    .dataframe tbody tr th {\n",
              "        vertical-align: top;\n",
              "    }\n",
              "\n",
              "    .dataframe thead th {\n",
              "        text-align: right;\n",
              "    }\n",
              "</style>\n",
              "<table border=\"1\" class=\"dataframe\">\n",
              "  <thead>\n",
              "    <tr style=\"text-align: right;\">\n",
              "      <th></th>\n",
              "      <th>Day 1</th>\n",
              "      <th>Day 2</th>\n",
              "      <th>Day 3</th>\n",
              "      <th>Target</th>\n",
              "    </tr>\n",
              "  </thead>\n",
              "  <tbody>\n",
              "    <tr>\n",
              "      <th>0</th>\n",
              "      <td>30</td>\n",
              "      <td>40</td>\n",
              "      <td>50</td>\n",
              "      <td>20</td>\n",
              "    </tr>\n",
              "    <tr>\n",
              "      <th>1</th>\n",
              "      <td>40</td>\n",
              "      <td>50</td>\n",
              "      <td>20</td>\n",
              "      <td>15</td>\n",
              "    </tr>\n",
              "    <tr>\n",
              "      <th>2</th>\n",
              "      <td>50</td>\n",
              "      <td>20</td>\n",
              "      <td>15</td>\n",
              "      <td>60</td>\n",
              "    </tr>\n",
              "    <tr>\n",
              "      <th>3</th>\n",
              "      <td>20</td>\n",
              "      <td>15</td>\n",
              "      <td>60</td>\n",
              "      <td>70</td>\n",
              "    </tr>\n",
              "    <tr>\n",
              "      <th>4</th>\n",
              "      <td>15</td>\n",
              "      <td>60</td>\n",
              "      <td>70</td>\n",
              "      <td>50</td>\n",
              "    </tr>\n",
              "    <tr>\n",
              "      <th>5</th>\n",
              "      <td>60</td>\n",
              "      <td>70</td>\n",
              "      <td>50</td>\n",
              "      <td>40</td>\n",
              "    </tr>\n",
              "  </tbody>\n",
              "</table>\n",
              "</div>"
            ],
            "text/plain": [
              "   Day 1  Day 2  Day 3  Target\n",
              "0     30     40     50      20\n",
              "1     40     50     20      15\n",
              "2     50     20     15      60\n",
              "3     20     15     60      70\n",
              "4     15     60     70      50\n",
              "5     60     70     50      40"
            ]
          },
          "metadata": {},
          "execution_count": 184
        }
      ]
    },
    {
      "cell_type": "code",
      "metadata": {
        "id": "Cl3hFOxrRZIn"
      },
      "source": [
        "X=data.drop('Target',axis=1)\n",
        "y=data['Target']"
      ],
      "execution_count": 185,
      "outputs": []
    },
    {
      "cell_type": "code",
      "metadata": {
        "id": "VBpVX4FJRlPD"
      },
      "source": [
        "X_trans=Normalizer(norm='max').fit_transform(X)"
      ],
      "execution_count": 186,
      "outputs": []
    },
    {
      "cell_type": "code",
      "metadata": {
        "colab": {
          "base_uri": "https://localhost:8080/"
        },
        "id": "yo2gFM3rSuuF",
        "outputId": "b642c1a7-cda1-481b-8df2-c2162f43fb02"
      },
      "source": [
        "np.reshape(array(Y),(1,-1))"
      ],
      "execution_count": 187,
      "outputs": [
        {
          "output_type": "execute_result",
          "data": {
            "text/plain": [
              "array([[0.1568661 , 0.20915479, 0.26144349, 0.20915479, 0.26144349,\n",
              "        0.1045774 , 0.26144349, 0.1045774 , 0.07843305, 0.1045774 ,\n",
              "        0.07843305, 0.31373219, 0.07843305, 0.31373219, 0.36602089,\n",
              "        0.31373219, 0.36602089, 0.26144349]])"
            ]
          },
          "metadata": {},
          "execution_count": 187
        }
      ]
    },
    {
      "cell_type": "code",
      "metadata": {
        "id": "canwITHqS6w0"
      },
      "source": [
        "Y=Normalizer().fit_transform(np.reshape(array(X),(1,-1)))"
      ],
      "execution_count": 188,
      "outputs": []
    },
    {
      "cell_type": "code",
      "metadata": {
        "colab": {
          "base_uri": "https://localhost:8080/"
        },
        "id": "zwKzhGlxTwij",
        "outputId": "b97cb442-5350-4cff-de20-101509ed5243"
      },
      "source": [
        "Y"
      ],
      "execution_count": 189,
      "outputs": [
        {
          "output_type": "execute_result",
          "data": {
            "text/plain": [
              "array([[0.1568661 , 0.20915479, 0.26144349, 0.20915479, 0.26144349,\n",
              "        0.1045774 , 0.26144349, 0.1045774 , 0.07843305, 0.1045774 ,\n",
              "        0.07843305, 0.31373219, 0.07843305, 0.31373219, 0.36602089,\n",
              "        0.31373219, 0.36602089, 0.26144349]])"
            ]
          },
          "metadata": {},
          "execution_count": 189
        }
      ]
    },
    {
      "cell_type": "code",
      "metadata": {
        "colab": {
          "base_uri": "https://localhost:8080/"
        },
        "id": "U3OqCOPeT2Pr",
        "outputId": "bebc48da-3d95-45c2-ddee-d6f3302c31b9"
      },
      "source": [
        "X_trans"
      ],
      "execution_count": 190,
      "outputs": [
        {
          "output_type": "execute_result",
          "data": {
            "text/plain": [
              "array([[0.6       , 0.8       , 1.        ],\n",
              "       [0.8       , 1.        , 0.4       ],\n",
              "       [1.        , 0.4       , 0.3       ],\n",
              "       [0.33333333, 0.25      , 1.        ],\n",
              "       [0.21428571, 0.85714286, 1.        ],\n",
              "       [0.85714286, 1.        , 0.71428571]])"
            ]
          },
          "metadata": {},
          "execution_count": 190
        }
      ]
    },
    {
      "cell_type": "markdown",
      "metadata": {
        "id": "mp8ga891VdYS"
      },
      "source": [
        "ANN Model From Scratch"
      ]
    },
    {
      "cell_type": "code",
      "metadata": {
        "id": "6DzQXIkyVgG6"
      },
      "source": [
        "\"\"\"weight_1=array([[.2,.1],[.3,.1],[.2,.1]])\n",
        "weight_2=array([[.5],[.1]])\"\"\"\n",
        "\n",
        "weight_1="
      ],
      "execution_count": 191,
      "outputs": []
    },
    {
      "cell_type": "code",
      "metadata": {
        "id": "jNqx5cCeV3pv"
      },
      "source": [
        "X=X_trans"
      ],
      "execution_count": 192,
      "outputs": []
    },
    {
      "cell_type": "code",
      "metadata": {
        "colab": {
          "base_uri": "https://localhost:8080/"
        },
        "id": "FELReVO3YchV",
        "outputId": "8e351fcc-4a7d-469a-8214-64ea3deb9ca4"
      },
      "source": [
        "X[0:batch_size]"
      ],
      "execution_count": 199,
      "outputs": [
        {
          "output_type": "execute_result",
          "data": {
            "text/plain": [
              "array([[0.6, 0.8, 1. ],\n",
              "       [0.8, 1. , 0.4]])"
            ]
          },
          "metadata": {},
          "execution_count": 199
        }
      ]
    },
    {
      "cell_type": "code",
      "metadata": {
        "colab": {
          "base_uri": "https://localhost:8080/"
        },
        "id": "Zm8YYuVjV5e-",
        "outputId": "aa1f1704-1332-4481-db01-98d803ad4f7d"
      },
      "source": [
        "output_1=X[0:batch_size]@weight_1\n",
        "output_1"
      ],
      "execution_count": 194,
      "outputs": [
        {
          "output_type": "execute_result",
          "data": {
            "text/plain": [
              "array([[0.56, 0.24],\n",
              "       [0.54, 0.22]])"
            ]
          },
          "metadata": {},
          "execution_count": 194
        }
      ]
    },
    {
      "cell_type": "code",
      "metadata": {
        "colab": {
          "base_uri": "https://localhost:8080/"
        },
        "id": "ufWTNExfXArE",
        "outputId": "f2ab374f-e12c-4811-a2a8-fe3de8d66ae5"
      },
      "source": [
        "act_output_1=sigmoid(output_1).numpy()\n",
        "act_output_1"
      ],
      "execution_count": 195,
      "outputs": [
        {
          "output_type": "execute_result",
          "data": {
            "text/plain": [
              "array([[0.63645254, 0.55971365],\n",
              "       [0.63181242, 0.55477924]])"
            ]
          },
          "metadata": {},
          "execution_count": 195
        }
      ]
    },
    {
      "cell_type": "code",
      "metadata": {
        "colab": {
          "base_uri": "https://localhost:8080/"
        },
        "id": "Xec3y9K3Xp3r",
        "outputId": "c3991c39-85a8-46fa-ec71-073991e4d364"
      },
      "source": [
        "final_output=act_output_1@weight_2\n",
        "final_output"
      ],
      "execution_count": 196,
      "outputs": [
        {
          "output_type": "execute_result",
          "data": {
            "text/plain": [
              "array([[0.37419764],\n",
              "       [0.37138413]])"
            ]
          },
          "metadata": {},
          "execution_count": 196
        }
      ]
    },
    {
      "cell_type": "code",
      "metadata": {
        "id": "gWYih_c6cYS5"
      },
      "source": [
        "y_true=Y[0][0:batch_size]\n",
        "y_pred=final_output.T[0]"
      ],
      "execution_count": 202,
      "outputs": []
    },
    {
      "cell_type": "code",
      "metadata": {
        "colab": {
          "base_uri": "https://localhost:8080/"
        },
        "id": "BdLxYYymcwsp",
        "outputId": "82926c98-6b03-488b-f360-79ab48d5c6b4"
      },
      "source": [
        "y_true"
      ],
      "execution_count": 203,
      "outputs": [
        {
          "output_type": "execute_result",
          "data": {
            "text/plain": [
              "array([0.1568661 , 0.20915479])"
            ]
          },
          "metadata": {},
          "execution_count": 203
        }
      ]
    },
    {
      "cell_type": "code",
      "metadata": {
        "colab": {
          "base_uri": "https://localhost:8080/"
        },
        "id": "zUi9uhJEdBxy",
        "outputId": "f7677892-90f6-4fa2-cdbf-506f2f96a1e8"
      },
      "source": [
        "y_pred.T"
      ],
      "execution_count": 205,
      "outputs": [
        {
          "output_type": "execute_result",
          "data": {
            "text/plain": [
              "array([0.37419764, 0.37138413])"
            ]
          },
          "metadata": {},
          "execution_count": 205
        }
      ]
    },
    {
      "cell_type": "markdown",
      "metadata": {
        "id": "1Uf5UQVrdMYf"
      },
      "source": [
        "Computing Mean Squared Error"
      ]
    },
    {
      "cell_type": "code",
      "metadata": {
        "id": "Go8SeOTcb0mx"
      },
      "source": [
        "mse(y_true,y_pred)"
      ],
      "execution_count": null,
      "outputs": []
    }
  ]
}